{
  "nbformat": 4,
  "nbformat_minor": 0,
  "metadata": {
    "colab": {
      "name": "Assignment10.ipynb",
      "provenance": []
    },
    "kernelspec": {
      "name": "python3",
      "display_name": "Python 3"
    },
    "language_info": {
      "name": "python"
    }
  },
  "cells": [
    {
      "cell_type": "code",
      "execution_count": 7,
      "metadata": {
        "colab": {
          "base_uri": "https://localhost:8080/",
          "height": 750
        },
        "id": "8GkbKwi_qMDw",
        "outputId": "824213f4-382c-4ad5-9ff6-22e8cc80e3b8"
      },
      "outputs": [
        {
          "output_type": "display_data",
          "data": {
            "text/plain": [
              "<Figure size 432x288 with 1 Axes>"
            ],
            "image/png": "[encoded data removed]"
          },
          "metadata": {
            "needs_background": "light"
          }
        },
        {
          "output_type": "stream",
          "name": "stderr",
          "text": [
            "/usr/local/lib/python3.7/dist-packages/statsmodels/tsa/tsatools.py:117: FutureWarning: In a future version of pandas all arguments of concat except for the argument 'objs' will be keyword-only\n",
            "  x = pd.concat(x[::order], 1)\n"
          ]
        },
        {
          "output_type": "execute_result",
          "data": {
            "text/plain": [
              "<class 'statsmodels.iolib.summary.Summary'>\n",
              "\"\"\"\n",
              "                            OLS Regression Results                            \n",
              "==============================================================================\n",
              "Dep. Variable:                      y   R-squared:                       0.984\n",
              "Model:                            OLS   Adj. R-squared:                  0.984\n",
              "Method:                 Least Squares   F-statistic:                     6170.\n",
              "Date:                Mon, 21 Mar 2022   Prob (F-statistic):           2.63e-90\n",
              "Time:                        22:50:25   Log-Likelihood:                -363.40\n",
              "No. Observations:                 100   AIC:                             730.8\n",
              "Df Residuals:                      98   BIC:                             736.0\n",
              "Df Model:                           1                                         \n",
              "Covariance Type:            nonrobust                                         \n",
              "==============================================================================\n",
              "                 coef    std err          t      P>|t|      [0.025      0.975]\n",
              "------------------------------------------------------------------------------\n",
              "const          9.7848      1.837      5.326      0.000       6.139      13.431\n",
              "x              4.9863      0.063     78.549      0.000       4.860       5.112\n",
              "==============================================================================\n",
              "Omnibus:                        5.376   Durbin-Watson:                   2.176\n",
              "Prob(Omnibus):                  0.068   Jarque-Bera (JB):                4.889\n",
              "Skew:                           0.468   Prob(JB):                       0.0868\n",
              "Kurtosis:                       2.456   Cond. No.                         57.5\n",
              "==============================================================================\n",
              "\n",
              "Warnings:\n",
              "[1] Standard Errors assume that the covariance matrix of the errors is correctly specified.\n",
              "\"\"\""
            ],
            "text/html": [
              "<table class=\"simpletable\">\n",
              "<caption>OLS Regression Results</caption>\n",
              "<tr>\n",
              "  <th>Dep. Variable:</th>            <td>y</td>        <th>  R-squared:         </th> <td>   0.984</td>\n",
              "</tr>\n",
              "<tr>\n",
              "  <th>Model:</th>                   <td>OLS</td>       <th>  Adj. R-squared:    </th> <td>   0.984</td>\n",
              "</tr>\n",
              "<tr>\n",
              "  <th>Method:</th>             <td>Least Squares</td>  <th>  F-statistic:       </th> <td>   6170.</td>\n",
              "</tr>\n",
              "<tr>\n",
              "  <th>Date:</th>             <td>Mon, 21 Mar 2022</td> <th>  Prob (F-statistic):</th> <td>2.63e-90</td>\n",
              "</tr>\n",
              "<tr>\n",
              "  <th>Time:</th>                 <td>22:50:25</td>     <th>  Log-Likelihood:    </th> <td> -363.40</td>\n",
              "</tr>\n",
              "<tr>\n",
              "  <th>No. Observations:</th>      <td>   100</td>      <th>  AIC:               </th> <td>   730.8</td>\n",
              "</tr>\n",
              "<tr>\n",
              "  <th>Df Residuals:</th>          <td>    98</td>      <th>  BIC:               </th> <td>   736.0</td>\n",
              "</tr>\n",
              "<tr>\n",
              "  <th>Df Model:</th>              <td>     1</td>      <th>                     </th>     <td> </td>   \n",
              "</tr>\n",
              "<tr>\n",
              "  <th>Covariance Type:</th>      <td>nonrobust</td>    <th>                     </th>     <td> </td>   \n",
              "</tr>\n",
              "</table>\n",
              "<table class=\"simpletable\">\n",
              "<tr>\n",
              "    <td></td>       <th>coef</th>     <th>std err</th>      <th>t</th>      <th>P>|t|</th>  <th>[0.025</th>    <th>0.975]</th>  \n",
              "</tr>\n",
              "<tr>\n",
              "  <th>const</th> <td>    9.7848</td> <td>    1.837</td> <td>    5.326</td> <td> 0.000</td> <td>    6.139</td> <td>   13.431</td>\n",
              "</tr>\n",
              "<tr>\n",
              "  <th>x</th>     <td>    4.9863</td> <td>    0.063</td> <td>   78.549</td> <td> 0.000</td> <td>    4.860</td> <td>    5.112</td>\n",
              "</tr>\n",
              "</table>\n",
              "<table class=\"simpletable\">\n",
              "<tr>\n",
              "  <th>Omnibus:</th>       <td> 5.376</td> <th>  Durbin-Watson:     </th> <td>   2.176</td>\n",
              "</tr>\n",
              "<tr>\n",
              "  <th>Prob(Omnibus):</th> <td> 0.068</td> <th>  Jarque-Bera (JB):  </th> <td>   4.889</td>\n",
              "</tr>\n",
              "<tr>\n",
              "  <th>Skew:</th>          <td> 0.468</td> <th>  Prob(JB):          </th> <td>  0.0868</td>\n",
              "</tr>\n",
              "<tr>\n",
              "  <th>Kurtosis:</th>      <td> 2.456</td> <th>  Cond. No.          </th> <td>    57.5</td>\n",
              "</tr>\n",
              "</table><br/><br/>Warnings:<br/>[1] Standard Errors assume that the covariance matrix of the errors is correctly specified."
            ]
          },
          "metadata": {},
          "execution_count": 7
        }
      ],
      "source": [
        "import numpy as np\n",
        "import pandas as pd\n",
        "from matplotlib import pyplot as plt\n",
        "import seaborn as sns\n",
        "from statsmodels import api\n",
        "from scipy import stats\n",
        "from scipy.optimize import minimize\n",
        "\n",
        "x = np.linspace(0, 50, 100)\n",
        "z = np.random.normal(5, 10, 100)\n",
        "y = 5 + 5*x + z\n",
        "df = pd.DataFrame({'x':x, 'y':y})\n",
        "df.head()\n",
        "sns.regplot(x='x', y='y', data = df)\n",
        "plt.show()\n",
        "\n",
        "features = api.add_constant(df.x)\n",
        "model = api.OLS(y, features).fit()\n",
        "model.summary()"
      ]
    }
  ]
}